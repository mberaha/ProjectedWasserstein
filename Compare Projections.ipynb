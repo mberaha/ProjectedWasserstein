{
 "cells": [
  {
   "cell_type": "code",
   "execution_count": null,
   "metadata": {},
   "outputs": [],
   "source": [
    "import numpy as np\n",
    "import matplotlib.pyplot as plt\n",
    "\n",
    "from qpsolvers import solve_qp"
   ]
  },
  {
   "cell_type": "code",
   "execution_count": null,
   "metadata": {},
   "outputs": [],
   "source": [
    "def active_set(y):\n",
    "    len_active_set = y.shape[0]\n",
    "    active_set = [[y[i], 1.0, [i, ]]\n",
    "                  for i in range(len_active_set)]\n",
    "    current = 0\n",
    "\n",
    "    while current < len_active_set - 1:\n",
    "        while current < len_active_set -1 and \\\n",
    "              (active_set[current][0] * active_set[current + 1][1] <= \n",
    "               active_set[current][1] * active_set[current + 1][0]):\n",
    "            current += 1\n",
    "\n",
    "        if current == len_active_set - 1:\n",
    "            break\n",
    "\n",
    "        # merge two groups\n",
    "        active_set[current][0] += active_set[current + 1][0]\n",
    "        active_set[current][1] += active_set[current + 1][1]\n",
    "        active_set[current][2] += active_set[current + 1][2]\n",
    "\n",
    "        active_set.pop(current + 1)\n",
    "        len_active_set -= 1\n",
    "        while current > 0 and \\\n",
    "              (active_set[current - 1][0] * active_set[current][1] > \n",
    "               active_set[current - 1][1] * active_set[current][0]):\n",
    "            current -= 1\n",
    "            active_set[current][0] += active_set[current + 1][0]\n",
    "            active_set[current][1] += active_set[current + 1][1]\n",
    "            active_set[current][2] += active_set[current + 1][2]\n",
    "\n",
    "            active_set.pop(current + 1)\n",
    "            len_active_set -= 1\n",
    "\n",
    "    solution = np.zeros_like(y)\n",
    "    for v, w, idx in active_set:\n",
    "        solution[idx] = v / w\n",
    "    return solution\n",
    "\n",
    "\n",
    "def pava(y):\n",
    "    n = y.shape[0]\n",
    "    # The algorithm proceeds by iteratively updating the solution\n",
    "    # array.\n",
    "\n",
    "    solution = y.copy()\n",
    "\n",
    "    if n <= 1:\n",
    "        return solution\n",
    "\n",
    "    n -= 1\n",
    "    while 1:\n",
    "        # repeat until there are no more adjacent violators.\n",
    "        i = 0\n",
    "        pooled = 0\n",
    "        while i < n:\n",
    "            k = i\n",
    "            while k < n and solution[k] >= solution[k + 1]:\n",
    "                k += 1\n",
    "            if solution[i] != solution[k]:\n",
    "                # solution[i:k + 1] is a decreasing subsequence, so\n",
    "                # replace each point in the subsequence with the\n",
    "                # weighted average of the subsequence.\n",
    "                numerator = 0.0\n",
    "                denominator = 0.0\n",
    "                for j in range(i, k + 1):\n",
    "                    numerator += solution[j]\n",
    "                    denominator += 1\n",
    "                for j in range(i, k + 1):\n",
    "                    solution[j] = numerator / denominator\n",
    "                pooled = 1\n",
    "            i = k + 1\n",
    "        # Check for convergence\n",
    "        if pooled == 0:\n",
    "            break\n",
    "\n",
    "    return solution\n",
    "\n",
    "def proj_spline(y, metric, constraints_mat, cons_rhs):\n",
    "    return solve_qp(\n",
    "        metric * 2,\n",
    "        -2 * np.dot(metric, y),\n",
    "        constraints_mat, cons_rhs)"
   ]
  },
  {
   "cell_type": "code",
   "execution_count": null,
   "metadata": {},
   "outputs": [],
   "source": [
    "from wtda.spline import SplineBasis\n",
    "\n",
    "xgrid = np.linspace(-4, 4, 1000)\n",
    "y = xgrid**3 - 4 * xgrid\n",
    "\n",
    "spbasis = SplineBasis(2, xgrid=xgrid, nbasis=20)\n",
    "coeffs = spbasis.get_spline_expansion(y)\n",
    "\n",
    "constraints_mat = np.zeros((spbasis.nbasis - 1, spbasis.nbasis))\n",
    "for i in range(spbasis.nbasis-1):\n",
    "    constraints_mat[i, i] = 1\n",
    "    constraints_mat[i, i+1] = -1\n",
    "\n",
    "cons_rhs = np.zeros((spbasis.nbasis-1,))"
   ]
  },
  {
   "cell_type": "code",
   "execution_count": null,
   "metadata": {},
   "outputs": [],
   "source": [
    "%%time\n",
    "a_proj = active_set(y)"
   ]
  },
  {
   "cell_type": "code",
   "execution_count": null,
   "metadata": {},
   "outputs": [],
   "source": [
    "plt.plot(xgrid, y)\n",
    "# plt.plot(xgrid, a_proj)"
   ]
  },
  {
   "cell_type": "code",
   "execution_count": null,
   "metadata": {},
   "outputs": [],
   "source": [
    "%%time\n",
    "for i in range(1000):\n",
    "    a_proj = pava(y)"
   ]
  },
  {
   "cell_type": "code",
   "execution_count": null,
   "metadata": {},
   "outputs": [],
   "source": [
    "plt.plot(xgrid, y)\n",
    "plt.plot(xgrid, a_proj)"
   ]
  },
  {
   "cell_type": "code",
   "execution_count": null,
   "metadata": {},
   "outputs": [],
   "source": [
    "%%time\n",
    "for i in range(1000):\n",
    "    spline_proj = proj_spline(coeffs, spbasis.metric, constraints_mat, cons_rhs)"
   ]
  },
  {
   "cell_type": "code",
   "execution_count": null,
   "metadata": {},
   "outputs": [],
   "source": [
    "plt.plot(xgrid, y)\n",
    "plt.plot(xgrid, spbasis.eval_spline(spline_proj))"
   ]
  },
  {
   "cell_type": "code",
   "execution_count": null,
   "metadata": {},
   "outputs": [],
   "source": [
    "# Muller's boundary projection\n",
    "\n",
    "reg_out = y - xgrid\n",
    "for eta in np.linspace(1, 0, 1000):\n",
    "    proj_m = eta * reg_out\n",
    "    if np.all(np.diff(proj_m + xgrid) >= 0):\n",
    "        break"
   ]
  },
  {
   "cell_type": "code",
   "execution_count": null,
   "metadata": {},
   "outputs": [],
   "source": [
    "xgrid_new = np.linspace(0, 1, len(xgrid))\n",
    "\n",
    "plt.plot(xgrid_new, reg_out, label=\"regression output\", lw=2)\n",
    "plt.plot(xgrid_new, a_proj - xgrid, label=\"metric projection\")\n",
    "plt.plot(xgrid_new, proj_m, label=\"boundary projection\")\n",
    "plt.legend(fontsize=14)\n",
    "plt.savefig(\"metric_boundary.pdf\", bbox_inches=\"tight\")\n",
    "plt.show()"
   ]
  },
  {
   "cell_type": "code",
   "execution_count": null,
   "metadata": {},
   "outputs": [],
   "source": [
    "# plt.plot(reg_out + xgrid, xgrid_new, label=\"regression output\", lw=2)\n",
    "plt.plot(a_proj, xgrid_new,  label=\"metric projection\", color=\"orange\")\n",
    "plt.plot(proj_m + xgrid, xgrid_new, label=\"boundary projection\", color=\"forestgreen\")\n",
    "plt.legend(fontsize=14, loc=\"best\")\n",
    "plt.savefig(\"metric_boundary_cdf.pdf\", bbox_inches=\"tight\")\n",
    "plt.show()"
   ]
  },
  {
   "cell_type": "code",
   "execution_count": null,
   "metadata": {},
   "outputs": [],
   "source": [
    "fig, axes = plt.subplots(nrows=1, ncols=2, figsize=(10, 5))\n",
    "axes[0].plot(xgrid_new, reg_out, label=\"regression output\", lw=2)\n",
    "axes[0].plot(xgrid_new, a_proj - xgrid, label=\"metric projection\")\n",
    "axes[0].plot(xgrid_new, proj_m, label=\"boundary projection\")\n",
    "axes[1].plot(a_proj, xgrid_new,  label=\"metric projection\", color=\"orange\")\n",
    "axes[1].plot(proj_m + xgrid, xgrid_new, label=\"boundary projection\", color=\"forestgreen\")\n",
    "axes[0].set_title(\"Tangent Space\", fontsize=16)\n",
    "axes[1].set_title(\"Quantile Functions\", fontsize=16)\n",
    "\n",
    "axes[0].legend(loc=\"lower center\", ncol=3, bbox_to_anchor=(1.1, -0.2), fontsize=14)\n",
    "plt.savefig(\"metric_vs_boundary.pdf\", bbox_inches=\"tight\")\n",
    "plt.show()"
   ]
  }
 ],
 "metadata": {
  "kernelspec": {
   "display_name": "Python 3",
   "language": "python",
   "name": "python3"
  },
  "language_info": {
   "codemirror_mode": {
    "name": "ipython",
    "version": 3
   },
   "file_extension": ".py",
   "mimetype": "text/x-python",
   "name": "python",
   "nbconvert_exporter": "python",
   "pygments_lexer": "ipython3",
   "version": "3.8.0"
  }
 },
 "nbformat": 4,
 "nbformat_minor": 4
}
