{
 "cells": [
  {
   "cell_type": "code",
   "execution_count": null,
   "metadata": {},
   "outputs": [],
   "source": [
    "import numpy as np\n",
    "import pickle\n",
    "import pandas as pd\n",
    "import matplotlib.pyplot as plt\n",
    "\n",
    "from scipy.integrate import trapz\n",
    "from scipy.stats import gaussian_kde\n",
    "\n",
    "from pwass.spline import MonotoneQuadraticSplineBasis\n",
    "from pwass.distributions import Distribution\n",
    "from pwass.dimsensionality_reduction.geodesic_pca import GeodesicPCA\n",
    "from pwass.dimsensionality_reduction.nested_pca import NestedPCA\n",
    "from pwass.dimsensionality_reduction.projected_pca import ProjectedPCA"
   ]
  },
  {
   "cell_type": "code",
   "execution_count": null,
   "metadata": {},
   "outputs": [],
   "source": [
    "df = pd.read_csv(\"data/covid_us_new.csv\")\n",
    "df.head(10)"
   ]
  },
  {
   "cell_type": "code",
   "execution_count": null,
   "metadata": {},
   "outputs": [],
   "source": [
    "dfs_by_state = [\n",
    "    x for _, x in df.groupby(df.State) if len(x) > 1]\n",
    "\n",
    "# optional: Remove Puerto Rico\n",
    "dfs_by_state = [\n",
    "    x for x in dfs_by_state if x.State.values[0] != 'Puerto Rico']\n",
    "\n",
    "for currdf in dfs_by_state:\n",
    "    currdf.loc[np.isnan(currdf[\"COVID-19 Deaths\"].values), \"COVID-19 Deaths\"] = 2.0"
   ]
  },
  {
   "cell_type": "code",
   "execution_count": null,
   "metadata": {},
   "outputs": [],
   "source": [
    "nbasis = 15\n",
    "zero_one_grid = np.linspace(0, 1, 100)\n",
    "spline_basis = MonotoneQuadraticSplineBasis(nbasis, zero_one_grid)"
   ]
  },
  {
   "cell_type": "code",
   "execution_count": null,
   "metadata": {},
   "outputs": [],
   "source": [
    "from scipy.optimize import curve_fit\n",
    "\n",
    "def gaussian(x, mean, amplitude, standard_deviation):\n",
    "    return amplitude * np.exp( - ((x - mean) / standard_deviation) ** 2)"
   ]
  },
  {
   "cell_type": "code",
   "execution_count": null,
   "metadata": {
    "scrolled": true
   },
   "outputs": [],
   "source": [
    "# create distributions\n",
    "state_names = [x.State.values[0] for x in dfs_by_state]\n",
    "\n",
    "m_distribs = []\n",
    "f_distribs = []\n",
    "orig_m = []\n",
    "orig_f = []\n",
    "bins_center = np.array([0.5, 2.5, 9.5, 19.5, 29.5, 39.5, 49.5, 59.5, 69.5, 79.5, 89.5])\n",
    "\n",
    "bins = [[0, 1], [1, 5], [5, 15], [15, 25], [25, 35], [35, 45], [45, 55], [55, 65], [65, 75], \n",
    "        [75, 85], [85, 95]]\n",
    "\n",
    "xgrid = np.linspace(0, 94, 101)\n",
    "kept_groups = np.array([1, 3, 4, 5, 7, 9, 10, 12, 13, 14, 15])\n",
    "for s in dfs_by_state:\n",
    "    males = s[s.Sex == \"Male\"][\"COVID-19 Deaths\"].values[kept_groups]\n",
    "    orig_m.append(males)\n",
    "    interp_m = np.zeros_like(xgrid)\n",
    "    assert(len(males) == len(bins))\n",
    "    for i, (l, u) in enumerate(bins):\n",
    "        wh = np.where((xgrid >= l) & (xgrid <= u))[0]\n",
    "        interp_m[wh] = males[i]\n",
    "    \n",
    "    interp_m /= trapz(interp_m, xgrid)\n",
    "    curr = Distribution(wbasis=spline_basis)\n",
    "    curr.init_from_pdf(xgrid, interp_m)\n",
    "    curr._invert_cdf()\n",
    "    curr.compute_spline_expansions()\n",
    "    m_distribs.append(curr)\n",
    "    plt.plot(xgrid, interp_m, color=\"steelblue\")    \n",
    " \n",
    "    females = s[s.Sex == \"Female\"][\"COVID-19 Deaths\"].values[kept_groups]\n",
    "    orig_f.append(females)\n",
    "\n",
    "\n",
    "    interp_f = np.zeros_like(xgrid)\n",
    "    for i, (l, u) in enumerate(bins):\n",
    "        wh = np.where((xgrid >= l) & (xgrid <= u))[0]\n",
    "        interp_f[wh] = females[i]\n",
    "    \n",
    "    interp_f /= trapz(interp_f, xgrid)\n",
    "    curr = Distribution(wbasis=spline_basis)\n",
    "    curr.init_from_pdf(xgrid, interp_f)\n",
    "    curr._invert_cdf()\n",
    "    curr.compute_spline_expansions()\n",
    "    f_distribs.append(curr)\n",
    "    plt.plot(xgrid, interp_f, color=\"orange\")\n",
    "    \n",
    "plt.savefig(\"covid_data.pdf\")"
   ]
  },
  {
   "cell_type": "code",
   "execution_count": null,
   "metadata": {},
   "outputs": [],
   "source": [
    "alldistribs = m_distribs + f_distribs\n",
    "orig_distribs = orig_m + orig_f"
   ]
  },
  {
   "cell_type": "code",
   "execution_count": null,
   "metadata": {},
   "outputs": [],
   "source": [
    "ppca = ProjectedPCA(spline_basis=spline_basis, compute_spline=False)\n",
    "\n",
    "ppca.fit(alldistribs, 3)\n",
    "projs = ppca.transform(alldistribs)"
   ]
  },
  {
   "cell_type": "code",
   "execution_count": null,
   "metadata": {},
   "outputs": [],
   "source": [
    "projs"
   ]
  },
  {
   "cell_type": "code",
   "execution_count": null,
   "metadata": {
    "scrolled": false
   },
   "outputs": [],
   "source": [
    "%matplotlib inline\n",
    "fig, axes = plt.subplots(nrows=1, ncols=3, figsize=(10, 5))\n",
    "\n",
    "axes[0].scatter(projs[:53, 0], projs[:53, 1], c=\"steelblue\")\n",
    "axes[0].scatter(projs[53:, 0], projs[53:, 1],  c=\"orange\")\n",
    "\n",
    "axes[1].scatter(projs[:53, 0], projs[:53, 2], c=\"steelblue\")\n",
    "axes[1].scatter(projs[53:, 0], projs[53:, 2],  c=\"orange\")\n",
    "\n",
    "axes[2].scatter(projs[:53, 1], projs[:53, 2], c=\"steelblue\")\n",
    "axes[2].scatter(projs[53:, 1], projs[53:, 2],  c=\"orange\")\n",
    "\n",
    "plt.tight_layout()"
   ]
  },
  {
   "cell_type": "code",
   "execution_count": null,
   "metadata": {},
   "outputs": [],
   "source": [
    "import seaborn as sns\n",
    "from scipy.interpolate import UnivariateSpline\n",
    "\n",
    "def invcdf_to_pdf(zero_one_grid, invcdf_eval, s=0.1):\n",
    "    kept = np.unique(invcdf_eval, return_index=True)[1]\n",
    "    new_grid = np.linspace(np.min(invcdf_eval), np.max(invcdf_eval), 100)\n",
    "    cdf = UnivariateSpline(x=invcdf_eval[kept], y=zero_one_grid[kept], s=s)\n",
    "    der = cdf.derivative()(new_grid)\n",
    "    return new_grid, der\n",
    "\n",
    "def plot_pc(pca, ind, pos_lambdas, neg_lambdas, pos_palette, neg_palette, ax, smooth_val):\n",
    "    for j, lam in enumerate(pos_lambdas):\n",
    "        proj = pca.bary + pca.project(lam * pca.eig_vecs[:, ind])\n",
    "        grid, pdf = invcdf_to_pdf(\n",
    "            zero_one_grid,\n",
    "            spline_basis.eval_spline(proj), smooth_val)\n",
    "        ax.plot(grid, pdf, color=pos_palette[j])\n",
    "        \n",
    "        \n",
    "    for j, lam in enumerate(neg_lambdas):\n",
    "        proj = pca.bary + pca.project(lam * pca.eig_vecs[:, ind])\n",
    "        grid, pdf = invcdf_to_pdf(\n",
    "            zero_one_grid,\n",
    "            spline_basis.eval_spline(proj), smooth_val)\n",
    "        ax.plot(grid, pdf, color=neg_palette[j])"
   ]
  },
  {
   "cell_type": "code",
   "execution_count": null,
   "metadata": {},
   "outputs": [],
   "source": [
    "%matplotlib inline\n",
    "\n",
    "fig, axes = plt.subplots(nrows=1, ncols=4, figsize=(10, 3.5))\n",
    "\n",
    "pca = ppca\n",
    "s_vals = [1.5, 2.5]\n",
    "\n",
    "pos_lambdas = np.linspace(0.01, 3, 10)\n",
    "neg_lambdas = np.linspace(-0.01, -3, 10)\n",
    "pos_palette = sns.light_palette(\"red\", n_colors=len(pos_lambdas))\n",
    "neg_palette = sns.light_palette(\"navy\", n_colors=len(neg_lambdas))\n",
    "plot_pc(pca, 0, pos_lambdas, neg_lambdas, pos_palette, neg_palette, axes[0], s_vals[0])\n",
    "\n",
    "\n",
    "\n",
    "pos_lambdas = np.linspace(0.01, 2.5, 10)\n",
    "neg_lambdas = np.linspace(-0.01, -2, 10)\n",
    "pos_palette = sns.light_palette(\"red\", n_colors=len(pos_lambdas))\n",
    "neg_palette = sns.light_palette(\"navy\", n_colors=len(neg_lambdas))\n",
    "plot_pc(pca, 1, pos_lambdas, neg_lambdas, pos_palette, neg_palette, axes[1], s_vals[0])\n",
    "\n",
    "\n",
    "axes[0].set_ylim((0, 0.06))\n",
    "axes[1].set_ylim((0, 0.06))\n",
    "\n",
    "i1 = 72\n",
    "i2 = 54\n",
    "i3 = 50\n",
    "\n",
    "lw = 2.5\n",
    "\n",
    "axes[2].scatter(projs[:53, 0], projs[:53, 1], c=\"steelblue\", s=30, alpha=0.7)\n",
    "axes[2].scatter(projs[53:, 0], projs[53:, 1],  c=\"orange\", s=30, alpha=0.7)\n",
    "\n",
    "axes[3].plot(alldistribs[i1].pdf_grid, alldistribs[i1].pdf_eval, \n",
    "             label=state_names[i1 - 53], c=\"red\", linewidth=lw)\n",
    "axes[3].plot(alldistribs[i2].pdf_grid, alldistribs[i2].pdf_eval, \n",
    "             c=\"green\", linewidth=lw)\n",
    "axes[3].plot(alldistribs[i3].pdf_grid, alldistribs[i3].pdf_eval, \n",
    "             label=state_names[i3 - len(dfs_by_state)], c=\"#9467bd\", linewidth=lw)\n",
    "\n",
    "\n",
    "\n",
    "axes[2].scatter(projs[i1, 0], projs[i1, 1], c=\"red\", s=70)\n",
    "axes[2].scatter(projs[i2, 0], projs[i2, 1],  c=\"green\", s=70)\n",
    "axes[2].scatter(projs[i3, 0], projs[i3, 1],  c=\"#9467bd\", s=70)\n",
    "\n",
    "axes[0].set_title(\"First PD\", fontsize=16)\n",
    "axes[1].set_title(\"Second PD\", fontsize=16)\n",
    "axes[2].set_title(\"Scores\", fontsize=16)\n",
    "\n",
    "plt.tight_layout()\n",
    "# plt.savefig(\"covid_pc.pdf\")"
   ]
  },
  {
   "cell_type": "code",
   "execution_count": null,
   "metadata": {},
   "outputs": [],
   "source": [
    "# Reconstruction error\n",
    "\n",
    "def reconstruction_error(true_distribs, pca):\n",
    "    proj_coeffs = pca.transform(true_distribs)\n",
    "    reconstructed_coeffs = pca.pt_from_proj(proj_coeffs) + pca.bary\n",
    "\n",
    "    mean = 0\n",
    "    for i in range(len(true_distribs)):\n",
    "        pt = true_distribs[i].quantile_coeffs\n",
    "        delta = pt - reconstructed_coeffs[i, :]\n",
    "        mean += np.sqrt(pca.inner_prod(delta, delta))\n",
    "\n",
    "    return mean / len(true_distribs)\n",
    "\n",
    "\n",
    "def fit_and_compute_error(data, pca, dim):\n",
    "    pca.fit(data, dim)\n",
    "    error = reconstruction_error(data, pca)\n",
    "    print(\"dim: {0}, error: {1}\".format(dim, error))\n",
    "    return error"
   ]
  },
  {
   "cell_type": "code",
   "execution_count": null,
   "metadata": {},
   "outputs": [],
   "source": [
    "errs = []\n",
    "mean_err = 0\n",
    "for d in alldistribs:\n",
    "    delta = d.quantile_coeffs - ppca.bary\n",
    "    mean_err += ppca.inner_prod(delta, delta)\n",
    "\n",
    "errs.append(mean_err / len(alldistribs))\n",
    "\n",
    "for dim in range(1, 10):\n",
    "    errs.append(fit_and_compute_error(alldistribs, ppca, dim))"
   ]
  },
  {
   "cell_type": "code",
   "execution_count": null,
   "metadata": {},
   "outputs": [],
   "source": [
    "fig,ax = plt.subplots()\n",
    "\n",
    "ax.plot(range(10), errs, label=\"reconstruction error\")\n",
    "ax.set_xticks(range(10))\n",
    "\n",
    "ax2=ax.twinx()\n",
    "ax2.plot(range(1, 10), np.cumsum(ppca.eig_vals[:9]) / np.sum(ppca.eig_vals),\n",
    "         label=\"explained variance\", color=\"orange\")\n",
    "ax2.set_ylim(0.5, 1.1)\n",
    "fig.legend(fontsize=14)\n",
    "# plt.savefig(\"covid_pca_rec.pdf\")"
   ]
  }
 ],
 "metadata": {
  "kernelspec": {
   "display_name": "Python 3",
   "language": "python",
   "name": "python3"
  },
  "language_info": {
   "codemirror_mode": {
    "name": "ipython",
    "version": 3
   },
   "file_extension": ".py",
   "mimetype": "text/x-python",
   "name": "python",
   "nbconvert_exporter": "python",
   "pygments_lexer": "ipython3",
   "version": "3.8.0"
  }
 },
 "nbformat": 4,
 "nbformat_minor": 4
}
