{
 "cells": [
  {
   "cell_type": "code",
   "execution_count": 2,
   "metadata": {},
   "outputs": [],
   "source": [
    "import numpy as np\n",
    "import pickle\n",
    "import pandas as pd\n",
    "import matplotlib.pyplot as plt\n",
    "\n",
    "from scipy.integrate import trapz\n",
    "from scipy.stats import gaussian_kde\n",
    "\n",
    "from pwass.spline import MonotoneQuadraticSplineBasis\n",
    "from pwass.distributions import Distribution\n",
    "from pwass.dimsensionality_reduction.geodesic_pca import GeodesicPCA\n",
    "from pwass.dimsensionality_reduction.nested_pca import NestedPCA\n",
    "from pwass.dimsensionality_reduction.projected_pca import ProjectedPCA"
   ]
  },
  {
   "cell_type": "code",
   "execution_count": 3,
   "metadata": {},
   "outputs": [
    {
     "data": {
      "text/html": [
       "<div>\n",
       "<style scoped>\n",
       "    .dataframe tbody tr th:only-of-type {\n",
       "        vertical-align: middle;\n",
       "    }\n",
       "\n",
       "    .dataframe tbody tr th {\n",
       "        vertical-align: top;\n",
       "    }\n",
       "\n",
       "    .dataframe thead th {\n",
       "        text-align: right;\n",
       "    }\n",
       "</style>\n",
       "<table border=\"1\" class=\"dataframe\">\n",
       "  <thead>\n",
       "    <tr style=\"text-align: right;\">\n",
       "      <th></th>\n",
       "      <th>Data as of</th>\n",
       "      <th>Start week</th>\n",
       "      <th>End Week</th>\n",
       "      <th>State</th>\n",
       "      <th>Sex</th>\n",
       "      <th>Age group</th>\n",
       "      <th>COVID-19 Deaths</th>\n",
       "      <th>Total Deaths</th>\n",
       "      <th>Pneumonia Deaths</th>\n",
       "      <th>Pneumonia and COVID-19 Deaths</th>\n",
       "      <th>Influenza Deaths</th>\n",
       "      <th>Pneumonia, Influenza, or COVID-19 Deaths</th>\n",
       "      <th>Footnote</th>\n",
       "    </tr>\n",
       "  </thead>\n",
       "  <tbody>\n",
       "    <tr>\n",
       "      <th>0</th>\n",
       "      <td>12/09/2020</td>\n",
       "      <td>02/01/2020</td>\n",
       "      <td>12/05/2020</td>\n",
       "      <td>United States</td>\n",
       "      <td>All Sexes</td>\n",
       "      <td>All Ages</td>\n",
       "      <td>261530.0</td>\n",
       "      <td>2703232.0</td>\n",
       "      <td>257672.0</td>\n",
       "      <td>119560.0</td>\n",
       "      <td>6868.0</td>\n",
       "      <td>405464.0</td>\n",
       "      <td>NaN</td>\n",
       "    </tr>\n",
       "    <tr>\n",
       "      <th>1</th>\n",
       "      <td>12/09/2020</td>\n",
       "      <td>02/01/2020</td>\n",
       "      <td>12/05/2020</td>\n",
       "      <td>United States</td>\n",
       "      <td>All Sexes</td>\n",
       "      <td>Under 1 year</td>\n",
       "      <td>29.0</td>\n",
       "      <td>15187.0</td>\n",
       "      <td>146.0</td>\n",
       "      <td>4.0</td>\n",
       "      <td>15.0</td>\n",
       "      <td>186.0</td>\n",
       "      <td>NaN</td>\n",
       "    </tr>\n",
       "    <tr>\n",
       "      <th>2</th>\n",
       "      <td>12/09/2020</td>\n",
       "      <td>02/01/2020</td>\n",
       "      <td>12/05/2020</td>\n",
       "      <td>United States</td>\n",
       "      <td>All Sexes</td>\n",
       "      <td>0-17 years</td>\n",
       "      <td>133.0</td>\n",
       "      <td>26908.0</td>\n",
       "      <td>421.0</td>\n",
       "      <td>21.0</td>\n",
       "      <td>123.0</td>\n",
       "      <td>656.0</td>\n",
       "      <td>NaN</td>\n",
       "    </tr>\n",
       "    <tr>\n",
       "      <th>3</th>\n",
       "      <td>12/09/2020</td>\n",
       "      <td>02/01/2020</td>\n",
       "      <td>12/05/2020</td>\n",
       "      <td>United States</td>\n",
       "      <td>All Sexes</td>\n",
       "      <td>1-4 years</td>\n",
       "      <td>17.0</td>\n",
       "      <td>2823.0</td>\n",
       "      <td>92.0</td>\n",
       "      <td>2.0</td>\n",
       "      <td>42.0</td>\n",
       "      <td>149.0</td>\n",
       "      <td>NaN</td>\n",
       "    </tr>\n",
       "    <tr>\n",
       "      <th>4</th>\n",
       "      <td>12/09/2020</td>\n",
       "      <td>02/01/2020</td>\n",
       "      <td>12/05/2020</td>\n",
       "      <td>United States</td>\n",
       "      <td>All Sexes</td>\n",
       "      <td>5-14 years</td>\n",
       "      <td>46.0</td>\n",
       "      <td>4540.0</td>\n",
       "      <td>124.0</td>\n",
       "      <td>7.0</td>\n",
       "      <td>53.0</td>\n",
       "      <td>216.0</td>\n",
       "      <td>NaN</td>\n",
       "    </tr>\n",
       "    <tr>\n",
       "      <th>5</th>\n",
       "      <td>12/09/2020</td>\n",
       "      <td>02/01/2020</td>\n",
       "      <td>12/05/2020</td>\n",
       "      <td>United States</td>\n",
       "      <td>All Sexes</td>\n",
       "      <td>15-24 years</td>\n",
       "      <td>449.0</td>\n",
       "      <td>29167.0</td>\n",
       "      <td>587.0</td>\n",
       "      <td>157.0</td>\n",
       "      <td>55.0</td>\n",
       "      <td>930.0</td>\n",
       "      <td>NaN</td>\n",
       "    </tr>\n",
       "    <tr>\n",
       "      <th>6</th>\n",
       "      <td>12/09/2020</td>\n",
       "      <td>02/01/2020</td>\n",
       "      <td>12/05/2020</td>\n",
       "      <td>United States</td>\n",
       "      <td>All Sexes</td>\n",
       "      <td>18-29 years</td>\n",
       "      <td>1089.0</td>\n",
       "      <td>51517.0</td>\n",
       "      <td>1349.0</td>\n",
       "      <td>446.0</td>\n",
       "      <td>103.0</td>\n",
       "      <td>2085.0</td>\n",
       "      <td>NaN</td>\n",
       "    </tr>\n",
       "    <tr>\n",
       "      <th>7</th>\n",
       "      <td>12/09/2020</td>\n",
       "      <td>02/01/2020</td>\n",
       "      <td>12/05/2020</td>\n",
       "      <td>United States</td>\n",
       "      <td>All Sexes</td>\n",
       "      <td>25-34 years</td>\n",
       "      <td>1909.0</td>\n",
       "      <td>59676.0</td>\n",
       "      <td>2104.0</td>\n",
       "      <td>851.0</td>\n",
       "      <td>154.0</td>\n",
       "      <td>3301.0</td>\n",
       "      <td>NaN</td>\n",
       "    </tr>\n",
       "    <tr>\n",
       "      <th>8</th>\n",
       "      <td>12/09/2020</td>\n",
       "      <td>02/01/2020</td>\n",
       "      <td>12/05/2020</td>\n",
       "      <td>United States</td>\n",
       "      <td>All Sexes</td>\n",
       "      <td>30-49 years</td>\n",
       "      <td>11247.0</td>\n",
       "      <td>178906.0</td>\n",
       "      <td>10579.0</td>\n",
       "      <td>5095.0</td>\n",
       "      <td>574.0</td>\n",
       "      <td>17224.0</td>\n",
       "      <td>NaN</td>\n",
       "    </tr>\n",
       "    <tr>\n",
       "      <th>9</th>\n",
       "      <td>12/09/2020</td>\n",
       "      <td>02/01/2020</td>\n",
       "      <td>12/05/2020</td>\n",
       "      <td>United States</td>\n",
       "      <td>All Sexes</td>\n",
       "      <td>35-44 years</td>\n",
       "      <td>4917.0</td>\n",
       "      <td>84397.0</td>\n",
       "      <td>4724.0</td>\n",
       "      <td>2186.0</td>\n",
       "      <td>251.0</td>\n",
       "      <td>7676.0</td>\n",
       "      <td>NaN</td>\n",
       "    </tr>\n",
       "  </tbody>\n",
       "</table>\n",
       "</div>"
      ],
      "text/plain": [
       "   Data as of  Start week    End Week          State        Sex     Age group  \\\n",
       "0  12/09/2020  02/01/2020  12/05/2020  United States  All Sexes      All Ages   \n",
       "1  12/09/2020  02/01/2020  12/05/2020  United States  All Sexes  Under 1 year   \n",
       "2  12/09/2020  02/01/2020  12/05/2020  United States  All Sexes    0-17 years   \n",
       "3  12/09/2020  02/01/2020  12/05/2020  United States  All Sexes     1-4 years   \n",
       "4  12/09/2020  02/01/2020  12/05/2020  United States  All Sexes    5-14 years   \n",
       "5  12/09/2020  02/01/2020  12/05/2020  United States  All Sexes   15-24 years   \n",
       "6  12/09/2020  02/01/2020  12/05/2020  United States  All Sexes   18-29 years   \n",
       "7  12/09/2020  02/01/2020  12/05/2020  United States  All Sexes   25-34 years   \n",
       "8  12/09/2020  02/01/2020  12/05/2020  United States  All Sexes   30-49 years   \n",
       "9  12/09/2020  02/01/2020  12/05/2020  United States  All Sexes   35-44 years   \n",
       "\n",
       "   COVID-19 Deaths  Total Deaths  Pneumonia Deaths  \\\n",
       "0         261530.0     2703232.0          257672.0   \n",
       "1             29.0       15187.0             146.0   \n",
       "2            133.0       26908.0             421.0   \n",
       "3             17.0        2823.0              92.0   \n",
       "4             46.0        4540.0             124.0   \n",
       "5            449.0       29167.0             587.0   \n",
       "6           1089.0       51517.0            1349.0   \n",
       "7           1909.0       59676.0            2104.0   \n",
       "8          11247.0      178906.0           10579.0   \n",
       "9           4917.0       84397.0            4724.0   \n",
       "\n",
       "   Pneumonia and COVID-19 Deaths  Influenza Deaths  \\\n",
       "0                       119560.0            6868.0   \n",
       "1                            4.0              15.0   \n",
       "2                           21.0             123.0   \n",
       "3                            2.0              42.0   \n",
       "4                            7.0              53.0   \n",
       "5                          157.0              55.0   \n",
       "6                          446.0             103.0   \n",
       "7                          851.0             154.0   \n",
       "8                         5095.0             574.0   \n",
       "9                         2186.0             251.0   \n",
       "\n",
       "   Pneumonia, Influenza, or COVID-19 Deaths Footnote  \n",
       "0                                  405464.0      NaN  \n",
       "1                                     186.0      NaN  \n",
       "2                                     656.0      NaN  \n",
       "3                                     149.0      NaN  \n",
       "4                                     216.0      NaN  \n",
       "5                                     930.0      NaN  \n",
       "6                                    2085.0      NaN  \n",
       "7                                    3301.0      NaN  \n",
       "8                                   17224.0      NaN  \n",
       "9                                    7676.0      NaN  "
      ]
     },
     "execution_count": 3,
     "metadata": {},
     "output_type": "execute_result"
    }
   ],
   "source": [
    "df = pd.read_csv(\"data/covid_us_new.csv\")\n",
    "df.head(10)"
   ]
  },
  {
   "cell_type": "code",
   "execution_count": 6,
   "metadata": {},
   "outputs": [],
   "source": [
    "dfs_by_state = [\n",
    "    x for _, x in df.groupby(df.State) if len(x) > 1]\n",
    "\n",
    "# optional: Remove Puerto Rico\n",
    "dfs_by_state = [\n",
    "    x for x in dfs_by_state if x.State.values[0] != 'Puerto Rico']\n",
    "\n",
    "for currdf in dfs_by_state:\n",
    "    currdf.loc[np.isnan(currdf[\"COVID-19 Deaths\"].values), \"COVID-19 Deaths\"] = 2.0"
   ]
  },
  {
   "cell_type": "code",
   "execution_count": 7,
   "metadata": {},
   "outputs": [],
   "source": [
    "nbasis = 15\n",
    "zero_one_grid = np.linspace(0, 1, 100)\n",
    "spline_basis = MonotoneQuadraticSplineBasis(nbasis, zero_one_grid)"
   ]
  },
  {
   "cell_type": "code",
   "execution_count": 8,
   "metadata": {},
   "outputs": [],
   "source": [
    "from scipy.optimize import curve_fit\n",
    "\n",
    "def gaussian(x, mean, amplitude, standard_deviation):\n",
    "    return amplitude * np.exp( - ((x - mean) / standard_deviation) ** 2)"
   ]
  },
  {
   "cell_type": "code",
   "execution_count": 9,
   "metadata": {
    "scrolled": true
   },
   "outputs": [
    {
     "data": {
      "image/png": "[encoded data removed]",
      "text/plain": [
       "<Figure size 432x288 with 1 Axes>"
      ]
     },
     "metadata": {
      "needs_background": "light"
     },
     "output_type": "display_data"
    }
   ],
   "source": [
    "# create distributions\n",
    "state_names = [x.State.values[0] for x in dfs_by_state]\n",
    "\n",
    "m_distribs = []\n",
    "f_distribs = []\n",
    "orig_m = []\n",
    "orig_f = []\n",
    "bins_center = np.array([0.5, 2.5, 9.5, 19.5, 29.5, 39.5, 49.5, 59.5, 69.5, 79.5, 89.5])\n",
    "\n",
    "bins = [[0, 1], [1, 5], [5, 15], [15, 25], [25, 35], [35, 45], [45, 55], [55, 65], [65, 75], \n",
    "        [75, 85], [85, 95]]\n",
    "\n",
    "xgrid = np.linspace(0, 94, 101)\n",
    "kept_groups = np.array([1, 3, 4, 5, 7, 9, 10, 12, 13, 14, 15])\n",
    "for s in dfs_by_state:\n",
    "    males = s[s.Sex == \"Male\"][\"COVID-19 Deaths\"].values[kept_groups]\n",
    "    orig_m.append(males)\n",
    "    interp_m = np.zeros_like(xgrid)\n",
    "    assert(len(males) == len(bins))\n",
    "    for i, (l, u) in enumerate(bins):\n",
    "        wh = np.where((xgrid >= l) & (xgrid <= u))[0]\n",
    "        interp_m[wh] = males[i]\n",
    "    \n",
    "    interp_m /= trapz(interp_m, xgrid)\n",
    "    curr = Distribution(wbasis=spline_basis)\n",
    "    curr.init_from_pdf(xgrid, interp_m)\n",
    "    curr._invert_cdf()\n",
    "    curr.compute_spline_expansions()\n",
    "    m_distribs.append(curr)\n",
    "    plt.plot(xgrid, interp_m, color=\"steelblue\")    \n",
    " \n",
    "    females = s[s.Sex == \"Female\"][\"COVID-19 Deaths\"].values[kept_groups]\n",
    "    orig_f.append(females)\n",
    "\n",
    "\n",
    "    interp_f = np.zeros_like(xgrid)\n",
    "    for i, (l, u) in enumerate(bins):\n",
    "        wh = np.where((xgrid >= l) & (xgrid <= u))[0]\n",
    "        interp_f[wh] = females[i]\n",
    "    \n",
    "    interp_f /= trapz(interp_f, xgrid)\n",
    "    curr = Distribution(wbasis=spline_basis)\n",
    "    curr.init_from_pdf(xgrid, interp_f)\n",
    "    curr._invert_cdf()\n",
    "    curr.compute_spline_expansions()\n",
    "    f_distribs.append(curr)\n",
    "    plt.plot(xgrid, interp_f, color=\"orange\")\n",
    "    \n",
    "plt.savefig(\"covid_data.pdf\")"
   ]
  },
  {
   "cell_type": "code",
   "execution_count": 58,
   "metadata": {},
   "outputs": [],
   "source": [
    "alldistribs = m_distribs + f_distribs\n",
    "orig_distribs = orig_m + orig_f"
   ]
  },
  {
   "cell_type": "code",
   "execution_count": 84,
   "metadata": {},
   "outputs": [],
   "source": [
    "ppca = ProjectedPCA(spline_basis=spline_basis, compute_spline=False)\n",
    "\n",
    "ppca.fit(alldistribs, 10)\n",
    "projs = ppca.transform(alldistribs)"
   ]
  },
  {
   "cell_type": "code",
   "execution_count": null,
   "metadata": {
    "scrolled": false
   },
   "outputs": [],
   "source": [
    "%matplotlib inline\n",
    "fig, axes = plt.subplots(nrows=1, ncols=3, figsize=(10, 5))\n",
    "\n",
    "axes[0].scatter(projs[:53, 0], projs[:53, 1], c=\"steelblue\")\n",
    "axes[0].scatter(projs[53:, 0], projs[53:, 1],  c=\"orange\")\n",
    "\n",
    "axes[1].scatter(projs[:53, 0], projs[:53, 2], c=\"steelblue\")\n",
    "axes[1].scatter(projs[53:, 0], projs[53:, 2],  c=\"orange\")\n",
    "\n",
    "axes[2].scatter(projs[:53, 1], projs[:53, 2], c=\"steelblue\")\n",
    "axes[2].scatter(projs[53:, 1], projs[53:, 2],  c=\"orange\")\n",
    "\n",
    "plt.tight_layout()"
   ]
  },
  {
   "cell_type": "code",
   "execution_count": null,
   "metadata": {},
   "outputs": [],
   "source": [
    "import seaborn as sns\n",
    "from scipy.interpolate import UnivariateSpline\n",
    "\n",
    "def invcdf_to_pdf(zero_one_grid, invcdf_eval, s=0.1):\n",
    "    kept = np.unique(invcdf_eval, return_index=True)[1]\n",
    "    new_grid = np.linspace(np.min(invcdf_eval), np.max(invcdf_eval), 100)\n",
    "    cdf = UnivariateSpline(x=invcdf_eval[kept], y=zero_one_grid[kept], s=s)\n",
    "    der = cdf.derivative()(new_grid)\n",
    "    return new_grid, der\n",
    "\n",
    "def plot_pc(pca, ind, pos_lambdas, neg_lambdas, pos_palette, neg_palette, ax, smooth_val):\n",
    "    for j, lam in enumerate(pos_lambdas):\n",
    "        proj = pca.bary + pca.project(lam * pca.eig_vecs[:, ind])\n",
    "        grid, pdf = invcdf_to_pdf(\n",
    "            zero_one_grid,\n",
    "            spline_basis.eval_spline(proj), smooth_val)\n",
    "        ax.plot(grid, pdf, color=pos_palette[j])\n",
    "        \n",
    "        \n",
    "    for j, lam in enumerate(neg_lambdas):\n",
    "        proj = pca.bary + pca.project(lam * pca.eig_vecs[:, ind])\n",
    "        grid, pdf = invcdf_to_pdf(\n",
    "            zero_one_grid,\n",
    "            spline_basis.eval_spline(proj), smooth_val)\n",
    "        ax.plot(grid, pdf, color=neg_palette[j])"
   ]
  },
  {
   "cell_type": "code",
   "execution_count": null,
   "metadata": {},
   "outputs": [],
   "source": [
    "%matplotlib inline\n",
    "\n",
    "fig, axes = plt.subplots(nrows=1, ncols=4, figsize=(10, 3.5))\n",
    "\n",
    "pca = ppca\n",
    "s_vals = [1.5, 2.5]\n",
    "\n",
    "pos_lambdas = np.linspace(0.01, 3, 10)\n",
    "neg_lambdas = np.linspace(-0.01, -3, 10)\n",
    "pos_palette = sns.light_palette(\"red\", n_colors=len(pos_lambdas))\n",
    "neg_palette = sns.light_palette(\"navy\", n_colors=len(neg_lambdas))\n",
    "plot_pc(pca, 0, pos_lambdas, neg_lambdas, pos_palette, neg_palette, axes[0], s_vals[0])\n",
    "\n",
    "\n",
    "\n",
    "pos_lambdas = np.linspace(0.01, 2.5, 10)\n",
    "neg_lambdas = np.linspace(-0.01, -2, 10)\n",
    "pos_palette = sns.light_palette(\"red\", n_colors=len(pos_lambdas))\n",
    "neg_palette = sns.light_palette(\"navy\", n_colors=len(neg_lambdas))\n",
    "plot_pc(pca, 1, pos_lambdas, neg_lambdas, pos_palette, neg_palette, axes[1], s_vals[0])\n",
    "\n",
    "\n",
    "axes[0].set_ylim((0, 0.06))\n",
    "axes[1].set_ylim((0, 0.06))\n",
    "\n",
    "i1 = 72\n",
    "i2 = 54\n",
    "i3 = 50\n",
    "\n",
    "lw = 2.5\n",
    "\n",
    "axes[2].scatter(projs[:53, 0], projs[:53, 1], c=\"steelblue\", s=30, alpha=0.7)\n",
    "axes[2].scatter(projs[53:, 0], projs[53:, 1],  c=\"orange\", s=30, alpha=0.7)\n",
    "\n",
    "axes[3].plot(alldistribs[i1].pdf_grid, alldistribs[i1].pdf_eval, \n",
    "             label=state_names[i1 - 53], c=\"red\", linewidth=lw)\n",
    "axes[3].plot(alldistribs[i2].pdf_grid, alldistribs[i2].pdf_eval, \n",
    "             c=\"green\", linewidth=lw)\n",
    "axes[3].plot(alldistribs[i3].pdf_grid, alldistribs[i3].pdf_eval, \n",
    "             label=state_names[i3 - len(dfs_by_state)], c=\"#9467bd\", linewidth=lw)\n",
    "\n",
    "\n",
    "\n",
    "axes[2].scatter(projs[i1, 0], projs[i1, 1], c=\"red\", s=70)\n",
    "axes[2].scatter(projs[i2, 0], projs[i2, 1],  c=\"green\", s=70)\n",
    "axes[2].scatter(projs[i3, 0], projs[i3, 1],  c=\"#9467bd\", s=70)\n",
    "\n",
    "axes[0].set_title(\"First PD\", fontsize=16)\n",
    "axes[1].set_title(\"Second PD\", fontsize=16)\n",
    "axes[2].set_title(\"Scores\", fontsize=16)\n",
    "\n",
    "plt.tight_layout()\n",
    "# plt.savefig(\"covid_pc.pdf\")"
   ]
  },
  {
   "cell_type": "code",
   "execution_count": 185,
   "metadata": {},
   "outputs": [],
   "source": [
    "# Reconstruction error\n",
    "\n",
    "def reconstruction_error(true_distribs, pca):\n",
    "    proj_coeffs = pca.transform(true_distribs)\n",
    "    reconstructed_coeffs = pca.pt_from_proj(proj_coeffs) + pca.bary\n",
    "\n",
    "    mean = 0\n",
    "    for i in range(len(true_distribs)):\n",
    "        pt = true_distribs[i].quantile_coeffs\n",
    "        delta = pt - reconstructed_coeffs[i, :]\n",
    "        mean += np.sqrt(pca.inner_prod(delta, delta))\n",
    "\n",
    "    return mean / len(true_distribs)\n",
    "\n",
    "def reconstruction_error_norm(true_distribs, pca):\n",
    "    proj_coeffs = pca.transform(true_distribs)\n",
    "    reconstructed_coeffs = pca.pt_from_proj(proj_coeffs) + pca.bary\n",
    "\n",
    "    mean = 0\n",
    "    for i in range(len(true_distribs)):\n",
    "        pt = true_distribs[i].quantile_coeffs\n",
    "        delta = pt - reconstructed_coeffs[i, :]\n",
    "        dist_mean = pt - pca.bary\n",
    "        mean += np.sqrt(pca.inner_prod(delta, delta)) / \\\n",
    "                np.sqrt(pca.inner_prod(dist_mean, dist_mean))\n",
    "\n",
    "    return mean / len(true_distribs)\n",
    "\n",
    "\n",
    "def fit_and_compute_error(data, pca, dim):\n",
    "    pca.fit(data, dim)\n",
    "    error = reconstruction_error(data, pca)\n",
    "    print(\"dim: {0}, error: {1}\".format(dim, error))\n",
    "    return error\n",
    "\n",
    "\n",
    "def ghost_variance(data, pca, dim):\n",
    "    pca.fit(data, dim)\n",
    "    X = ppca.get_spline_mat(data)\n",
    "    l2proj = np.matmul(X - pca.bary, pca.base_change.T)[:, :dim]\n",
    "    projs = pca.transform(data)\n",
    "    recl2 = pca.pt_from_proj(l2proj) + pca.bary\n",
    "    recproj = pca.pt_from_proj(projs) + pca.bary\n",
    "    \n",
    "    gv = 0\n",
    "    for i in range(len(data)):\n",
    "        delta = recproj[i, :] - recl2[i, :]\n",
    "        pt = data[i].quantile_coeffs\n",
    "        num = ppca.inner_prod(delta, delta)\n",
    "        den = ppca.inner_prod(pt - pca.bary, pt - pca.bary)\n",
    "        gv += np.sqrt(num / den)\n",
    "    return gv / len(data)"
   ]
  },
  {
   "cell_type": "code",
   "execution_count": 186,
   "metadata": {},
   "outputs": [
    {
     "name": "stdout",
     "output_type": "stream",
     "text": [
      "dim: 1, error: 0.9647392577163585\n",
      "dim: 2, error: 0.7132871476998244\n",
      "dim: 3, error: 0.5065682686463185\n",
      "dim: 4, error: 0.300241453973785\n",
      "dim: 5, error: 0.19955875393321712\n",
      "dim: 6, error: 0.1423135854657076\n",
      "dim: 7, error: 0.10740860313273658\n",
      "dim: 8, error: 0.08026587915527503\n",
      "dim: 9, error: 0.05677210606011481\n"
     ]
    }
   ],
   "source": [
    "errs = []\n",
    "gv = []\n",
    "mean_err = 0\n",
    "for d in alldistribs:\n",
    "    delta = d.quantile_coeffs - ppca.bary\n",
    "    mean_err += ppca.inner_prod(delta, delta)\n",
    "\n",
    "errs.append(mean_err / len(alldistribs))\n",
    "gv.append(1)\n",
    "\n",
    "for dim in range(1, 10):\n",
    "    errs.append(fit_and_compute_error(alldistribs, ppca, dim))\n",
    "    gv.append(ghost_variance(alldistribs, ppca, dim))\n",
    "    \n",
    "errs = np.array(errs) / errs[0]"
   ]
  },
  {
   "cell_type": "code",
   "execution_count": 187,
   "metadata": {},
   "outputs": [
    {
     "data": {
      "text/plain": [
       "<matplotlib.legend.Legend at 0x7f0588d4a4f0>"
      ]
     },
     "execution_count": 187,
     "metadata": {},
     "output_type": "execute_result"
    },
    {
     "data": {
      "image/png": "[encoded data removed]",
      "text/plain": [
       "<Figure size 432x288 with 1 Axes>"
      ]
     },
     "metadata": {
      "needs_background": "light"
     },
     "output_type": "display_data"
    }
   ],
   "source": [
    "fig,ax = plt.subplots()\n",
    "\n",
    "ax.plot(range(10), errs, label=\"NRE\")\n",
    "ax.set_xticks(range(10))\n",
    "\n",
    "variances = np.cumsum(ppca.eig_vals[:9]) / np.sum(ppca.eig_vals)\n",
    "variances = np.r_[0, variances]\n",
    "\n",
    "ax.plot(range(0, 10), variances,label=\"VAR\", color=\"orange\")\n",
    "ax.plot(range(0, 10), gv, label=\"GV\", color=\"forestgreen\")\n",
    "\n",
    "fig.legend(fontsize=14, loc=\"center\")\n",
    "# plt.savefig(\"covid_pca_rec.pdf\")"
   ]
  },
  {
   "cell_type": "code",
   "execution_count": 190,
   "metadata": {},
   "outputs": [],
   "source": [
    "def get_eta(ind, pca, etamax=10):\n",
    "    eta_grid = np.linspace(0, etamax, 1000)\n",
    "    is_monotone = pca.bary + pca.eig_vecs[:, ind] * eta_grid[:, np.newaxis]\n",
    "    is_monotone = np.all(np.diff(is_monotone, axis=1) > 0, axis=1)\n",
    "    return eta_grid[is_monotone][-1]"
   ]
  },
  {
   "cell_type": "code",
   "execution_count": 191,
   "metadata": {},
   "outputs": [],
   "source": [
    "ppca.fit(alldistribs, 2)\n",
    "projs = ppca.transform(alldistribs)\n",
    "X = ppca.get_spline_mat(alldistribs)\n",
    "X_trans = np.matmul(X - ppca.bary, ppca.base_change.T)[:, :ppca.k]"
   ]
  },
  {
   "cell_type": "code",
   "execution_count": 192,
   "metadata": {},
   "outputs": [
    {
     "data": {
      "text/plain": [
       "<matplotlib.lines.Line2D at 0x7f0588cb3130>"
      ]
     },
     "execution_count": 192,
     "metadata": {},
     "output_type": "execute_result"
    },
    {
     "data": {
      "image/png": "[encoded data removed]",
      "text/plain": [
       "<Figure size 432x288 with 1 Axes>"
      ]
     },
     "metadata": {
      "needs_background": "light"
     },
     "output_type": "display_data"
    }
   ],
   "source": [
    "etamax = get_eta(0, ppca, 100)\n",
    "etamin = get_eta(0, ppca, -100)\n",
    "\n",
    "plt.hist(X_trans[:, 0])\n",
    "plt.axvline(etamax, color=\"red\")\n",
    "plt.axvline(etamin, color=\"red\")"
   ]
  },
  {
   "cell_type": "code",
   "execution_count": 158,
   "metadata": {},
   "outputs": [
    {
     "data": {
      "text/plain": [
       "0.0"
      ]
     },
     "execution_count": 158,
     "metadata": {},
     "output_type": "execute_result"
    }
   ],
   "source": [
    "s = X_trans[:, ind]\n",
    "np.sum(s[s < etamin] - etamin) / len(alldistribs)"
   ]
  },
  {
   "cell_type": "code",
   "execution_count": 193,
   "metadata": {},
   "outputs": [
    {
     "data": {
      "text/plain": [
       "<matplotlib.lines.Line2D at 0x7f0588efee80>"
      ]
     },
     "execution_count": 193,
     "metadata": {},
     "output_type": "execute_result"
    },
    {
     "data": {
      "image/png": "[encoded data removed]",
      "text/plain": [
       "<Figure size 432x288 with 1 Axes>"
      ]
     },
     "metadata": {
      "needs_background": "light"
     },
     "output_type": "display_data"
    }
   ],
   "source": [
    "ind = 1\n",
    "etamax = get_eta(ind, ppca, 10)\n",
    "etamin = get_eta(ind, ppca, -10)\n",
    "\n",
    "plt.hist(X_trans[:, ind])\n",
    "plt.axvline(etamax, color=\"red\")\n",
    "plt.axvline(etamin, color=\"red\")"
   ]
  },
  {
   "cell_type": "code",
   "execution_count": 195,
   "metadata": {},
   "outputs": [
    {
     "data": {
      "text/plain": [
       "0.8868812961686747"
      ]
     },
     "execution_count": 195,
     "metadata": {},
     "output_type": "execute_result"
    }
   ],
   "source": [
    "s = X_trans[:, ind]\n",
    "1 - np.sum((s[s > etamax] - etamax) / s[s > etamax]) / len(alldistribs)"
   ]
  }
 ],
 "metadata": {
  "kernelspec": {
   "display_name": "Python 3",
   "language": "python",
   "name": "python3"
  },
  "language_info": {
   "codemirror_mode": {
    "name": "ipython",
    "version": 3
   },
   "file_extension": ".py",
   "mimetype": "text/x-python",
   "name": "python",
   "nbconvert_exporter": "python",
   "pygments_lexer": "ipython3",
   "version": "3.8.0"
  }
 },
 "nbformat": 4,
 "nbformat_minor": 4
}
