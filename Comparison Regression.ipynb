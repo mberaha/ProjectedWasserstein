{
 "cells": [
  {
   "cell_type": "code",
   "execution_count": null,
   "metadata": {},
   "outputs": [],
   "source": [
    "import numpy as np\n",
    "import matplotlib.pyplot as plt\n",
    "from scipy.stats import dirichlet\n",
    "from scipy.integrate import cumtrapz, simps, trapz\n",
    "from scipy.interpolate import PchipInterpolator\n",
    "\n",
    "from pwass.distributions import Distribution\n",
    "from pwass.regression.distrib_on_distrib import DistribOnDistribReg\n",
    "from pwass.regression.simplicial import SimpliciadDistribOnDistrib\n",
    "\n",
    "from pwass.spline import SplineBasis, MonotoneQuadraticSplineBasis"
   ]
  },
  {
   "cell_type": "code",
   "execution_count": null,
   "metadata": {},
   "outputs": [],
   "source": [
    "def error_from_simp(ytrue, ypred):\n",
    "    grid = np.linspace(0, 1, 200)\n",
    "    # reconstruct the quantiles\n",
    "    qgrid_true = cumtrapz(ytrue.pdf_eval, ytrue.pdf_grid)\n",
    "    qeval_true = ytrue.pdf_grid[1:]\n",
    "    qtrue = PchipInterpolator(qgrid_true, qeval_true)\n",
    "    \n",
    "    qgrid_pred = cumtrapz(ypred.pdf_eval, ypred.pdf_grid)\n",
    "    qeval_pred = ypred.pdf_grid[1:]\n",
    "    qpred = PchipInterpolator(qgrid_pred, qeval_pred)\n",
    "    \n",
    "    er = trapz((qpred(grid) - qtrue(grid)) ** 2, grid)\n",
    "    return er\n",
    "\n",
    "def error_from_wass(ytrue, ypred):\n",
    "    return trapz(\n",
    "        (ytrue.quantile_eval - ypred.wbasis.eval_spline(ypred.quantile_coeffs, ytrue.quantile_grid))**2, \n",
    "        ytrue.quantile_grid)\n",
    "\n",
    "\n",
    "def loo_wass(qx, qy):\n",
    "    qx = np.array(qx)\n",
    "    qy = np.array(qy)\n",
    "    errs = []\n",
    "    for i in range(len(qx)):\n",
    "        reg = DistribOnDistribReg(spline_basis=wbasis, compute_spline=False) \n",
    "        reg.fit(np.delete(qx, i), np.delete(qy, i))\n",
    "        errs.append(error_from_wass(qy[i], reg.predict([qx[i]])[0]))\n",
    "        \n",
    "    return errs\n",
    "\n",
    "\n",
    "def loo_simp(pdfx, pdfy):\n",
    "    pdfx = np.array(pdfx)\n",
    "    pdfy = np.array(pdfy)\n",
    "    errs = []\n",
    "    for i in range(len(pdfx)):\n",
    "        reg = SimpliciadDistribOnDistrib(spline_basis=simpbasis, compute_spline=False) \n",
    "        reg.fit(np.delete(pdfx, i), np.delete(pdfy, i))\n",
    "        errs.append(error_from_simp(pdfy[i], reg.predict([pdfx[i]])[0]))\n",
    "        \n",
    "    return errs"
   ]
  },
  {
   "cell_type": "markdown",
   "metadata": {},
   "source": [
    "## generate data from our model"
   ]
  },
  {
   "cell_type": "code",
   "execution_count": null,
   "metadata": {},
   "outputs": [],
   "source": [
    "zero_one_grid = np.linspace(0, 1, 1000)\n",
    "nbasis = 20\n",
    "wbasis = MonotoneQuadraticSplineBasis(nbasis, zero_one_grid)"
   ]
  },
  {
   "cell_type": "code",
   "execution_count": null,
   "metadata": {},
   "outputs": [],
   "source": [
    "def generate_quantiles(ndata, nbasis=10):\n",
    "    zero_one_grid = np.linspace(0, 1, 500)\n",
    "    wbasis = SplineBasis(3, nbasis=nbasis, xgrid=zero_one_grid)\n",
    "    x_coeffs = np.cumsum(np.hstack(\n",
    "        [np.zeros(ndata).reshape(-1, 1), dirichlet.rvs(np.ones(nbasis - 1) * 5, size=ndata)]), axis=1)\n",
    "    beta = np.cumsum(np.random.uniform(0, 0.5, size=(nbasis, nbasis)), axis=1)\n",
    "    y_coeffs = np.matmul(x_coeffs, beta)\n",
    "    \n",
    "    X_evals = np.zeros((ndata, len(zero_one_grid)))\n",
    "    Y_evals = np.zeros((ndata, len(zero_one_grid)))\n",
    "    \n",
    "    for i in range(ndata):\n",
    "        X_evals[i, :] = wbasis.eval_spline(x_coeffs[i, :])\n",
    "        Y_evals[i, :] = wbasis.eval_spline(y_coeffs[i, :])\n",
    "        \n",
    "    return zero_one_grid, X_evals, Y_evals"
   ]
  },
  {
   "cell_type": "code",
   "execution_count": null,
   "metadata": {},
   "outputs": [],
   "source": [
    "ndata = 100\n",
    "grid, X_evals, Y_evals = generate_quantiles(ndata)\n",
    "\n",
    "simpgrid = np.linspace(np.min([X_evals, Y_evals]), np.max([X_evals, Y_evals]), 100)\n",
    "simpbasis = SplineBasis(3, nbasis=100, xgrid=simpgrid)\n",
    "xmin = simpgrid[0]\n",
    "xmax = simpgrid[-1]\n",
    "\n",
    "\n",
    "qx = []\n",
    "qy = []\n",
    "pdfx = []\n",
    "pdfy = []\n",
    "\n",
    "for i in range(ndata):\n",
    "    print(\"\\r{0} / {1}\".format(i+1, ndata), end=\" \", flush=True)\n",
    "    curr_qx = Distribution(wbasis=wbasis)\n",
    "    curr_qx.init_from_quantile(grid, X_evals[i, :])\n",
    "    curr_qx.compute_spline_expansions()\n",
    "    qx.append(curr_qx)\n",
    "    \n",
    "    curr_qy = Distribution(wbasis=wbasis)\n",
    "    curr_qy.init_from_quantile(grid, Y_evals[i, :])\n",
    "    curr_qy.compute_spline_expansions()\n",
    "    qy.append(curr_qy)\n",
    "    \n",
    "    \n",
    "    curr_pdfx = Distribution(xbasis=simpbasis)\n",
    "    pdf_eval = np.diff(grid) / np.diff(X_evals[i, :])\n",
    "    pdf_grid = X_evals[i, 1:]\n",
    "    before = np.arange(xmin, pdf_grid[0], 0.1)\n",
    "    after = np.arange(pdf_grid[-1], xmax, 0.1)[1:]\n",
    "    pdf_grid = np.concatenate([before, pdf_grid, after])\n",
    "    pdf_eval = np.concatenate([np.ones_like(before) * 1e-5, pdf_eval, np.ones_like(after) * 1e-5])\n",
    "    curr_pdfx.init_from_pdf(pdf_grid, pdf_eval)\n",
    "    curr_pdfx.compute_clr()\n",
    "    curr_pdfx.compute_spline_expansions()\n",
    "    pdfx.append(curr_pdfx)\n",
    "    \n",
    "    curr_pdfy = Distribution(xbasis=simpbasis)\n",
    "    pdf_eval = np.diff(grid) / np.diff(Y_evals[i, :])\n",
    "    pdf_grid = Y_evals[i, 1:]\n",
    "    before = np.arange(xmin, pdf_grid[0], 0.1)\n",
    "    after = np.arange(pdf_grid[-1], xmax, 0.1)[1:]\n",
    "    pdf_grid = np.concatenate([before, pdf_grid, after])\n",
    "    pdf_eval = np.concatenate([np.ones_like(before) * 1e-5, pdf_eval, np.ones_like(after) * 1e-5])\n",
    "    curr_pdfy.init_from_pdf(pdf_grid, pdf_eval)\n",
    "    curr_pdfy.compute_clr()\n",
    "    curr_pdfy.compute_spline_expansions()\n",
    "    pdfy.append(curr_pdfy)"
   ]
  },
  {
   "cell_type": "code",
   "execution_count": null,
   "metadata": {},
   "outputs": [],
   "source": [
    "er_wass = loo_wass(qx, qy)\n",
    "er_simp = loo_simp(pdfx, pdfy)"
   ]
  },
  {
   "cell_type": "code",
   "execution_count": null,
   "metadata": {},
   "outputs": [],
   "source": [
    "print(\"WASS. ERROR: {0:.10f}, STD: {1:.10f}\".format(np.mean(er_wass), np.std(er_wass)))\n",
    "print(\"SIMP. ERROR: {0:.5f}, STD: {1:.5f}\".format(np.mean(er_simp), np.std(er_simp)))"
   ]
  },
  {
   "cell_type": "markdown",
   "metadata": {},
   "source": [
    "## generate data from simplicial"
   ]
  },
  {
   "cell_type": "code",
   "execution_count": null,
   "metadata": {},
   "outputs": [],
   "source": [
    "def inv_clr(f_eval, grid):\n",
    "    out = np.exp(f_eval)\n",
    "    den = simps(out, grid)\n",
    "    return out / den\n",
    "\n",
    "\n",
    "def generate_pdfs(ndata):\n",
    "    nbasis = 20\n",
    "    zero_one_grid = np.linspace(0, 1, 500)\n",
    "    basis = SplineBasis(3, nbasis=nbasis, xgrid=zero_one_grid)\n",
    "    \n",
    "    x_coeffs = np.random.normal(scale=0.2, size=(ndata, nbasis))\n",
    "    beta = np.random.normal(size=(nbasis, nbasis))\n",
    "    y_coeffs = np.matmul(x_coeffs, beta)\n",
    "    \n",
    "    X_evals = np.zeros((ndata, len(zero_one_grid)))\n",
    "    Y_evals = np.zeros((ndata, len(zero_one_grid)))\n",
    "    \n",
    "    for i in range(ndata):\n",
    "        X_evals[i, :] = inv_clr(basis.eval_spline(x_coeffs[i, :]), zero_one_grid)\n",
    "        Y_evals[i, :] = inv_clr(basis.eval_spline(y_coeffs[i, :]), zero_one_grid)\n",
    "        \n",
    "    return zero_one_grid, X_evals, Y_evals"
   ]
  },
  {
   "cell_type": "code",
   "execution_count": null,
   "metadata": {},
   "outputs": [],
   "source": [
    "zero_one_grid = np.linspace(0, 1, 1000)\n",
    "nbasis = 20\n",
    "wbasis = MonotoneQuadraticSplineBasis(nbasis, zero_one_grid)\n",
    "simpbasis = SplineBasis(2, nbasis=nbasis, xgrid=zero_one_grid)"
   ]
  },
  {
   "cell_type": "code",
   "execution_count": null,
   "metadata": {},
   "outputs": [],
   "source": [
    "ndata = 100\n",
    "grid, X_evals, Y_evals = generate_pdfs(ndata)\n",
    "\n",
    "qx = []\n",
    "qy = []\n",
    "pdfx = []\n",
    "pdfy = []\n",
    "\n",
    "for i in range(ndata):\n",
    "    curr_pdfx = Distribution(xbasis=simpbasis)\n",
    "    curr_pdfx.init_from_pdf(grid, X_evals[i, :])\n",
    "    curr_pdfx.compute_clr()\n",
    "    curr_pdfx.compute_spline_expansions()\n",
    "    pdfx.append(curr_pdfx)\n",
    "    \n",
    "    curr_pdfy = Distribution(xbasis=simpbasis)\n",
    "    curr_pdfy.init_from_pdf(grid, Y_evals[i, :])\n",
    "    curr_pdfy.compute_clr()\n",
    "    curr_pdfy.compute_spline_expansions()\n",
    "    pdfy.append(curr_pdfy)\n",
    "    \n",
    "    curr_qx = Distribution(wbasis=wbasis)\n",
    "    curr_qx.init_from_pdf(grid, X_evals[i, :])\n",
    "    curr_qx._invert_cdf()\n",
    "    curr_qx.compute_spline_expansions()\n",
    "    qx.append(curr_qx)\n",
    "    \n",
    "    curr_qy = Distribution(wbasis=wbasis)\n",
    "    curr_qy.init_from_pdf(grid, Y_evals[i, :])\n",
    "    curr_qy._invert_cdf()\n",
    "    curr_qy.compute_spline_expansions()\n",
    "    qy.append(curr_qy)"
   ]
  },
  {
   "cell_type": "code",
   "execution_count": null,
   "metadata": {},
   "outputs": [],
   "source": [
    "er_wass = loo_wass(qx, qy)\n",
    "er_simp = loo_simp(pdfx, pdfy)\n",
    "\n",
    "print(\"WASS. ERROR: {0:.4f}, STD: {1:.5f}\".format(np.mean(er_wass), np.std(er_wass)))\n",
    "print(\"SIMP. ERROR: {0:.4f}, STD: {1:.5f}\".format(np.mean(er_simp), np.std(er_simp)))"
   ]
  },
  {
   "cell_type": "code",
   "execution_count": null,
   "metadata": {},
   "outputs": [],
   "source": [
    "reg1 = DistribOnDistribReg(spline_basis=wbasis, compute_spline=False) \n",
    "reg1.fit(qx, qy)\n",
    "\n",
    "reg2 = SimpliciadDistribOnDistrib(spline_basis=wbasis, compute_spline=False) \n",
    "reg2.fit(pdfx, pdfy)"
   ]
  },
  {
   "cell_type": "code",
   "execution_count": null,
   "metadata": {},
   "outputs": [],
   "source": [
    "fig, axes = plt.subplots(nrows=1, ncols=2, figsize=(10, 5))\n",
    "\n",
    "vmin = np.min([reg1.beta, reg2.beta])\n",
    "vmax = np.max([reg1.beta, reg2.beta])\n",
    "\n",
    "axes[0].imshow(reg1.beta)\n",
    "axes[1].imshow(reg2.beta)\n",
    "plt.show()"
   ]
  }
 ],
 "metadata": {
  "kernelspec": {
   "display_name": "Python 3",
   "language": "python",
   "name": "python3"
  },
  "language_info": {
   "codemirror_mode": {
    "name": "ipython",
    "version": 3
   },
   "file_extension": ".py",
   "mimetype": "text/x-python",
   "name": "python",
   "nbconvert_exporter": "python",
   "pygments_lexer": "ipython3",
   "version": "3.8.0"
  }
 },
 "nbformat": 4,
 "nbformat_minor": 4
}
